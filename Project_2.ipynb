{
  "nbformat": 4,
  "nbformat_minor": 0,
  "metadata": {
    "colab": {
      "provenance": [],
      "authorship_tag": "ABX9TyMFfDVTD9IgmZEaVpaljjgf",
      "include_colab_link": true
    },
    "kernelspec": {
      "name": "python3",
      "display_name": "Python 3"
    },
    "language_info": {
      "name": "python"
    }
  },
  "cells": [
    {
      "cell_type": "markdown",
      "metadata": {
        "id": "view-in-github",
        "colab_type": "text"
      },
      "source": [
        "<a href=\"https://colab.research.google.com/github/noobhacker02/CBT-CIP/blob/main/Project_2.ipynb\" target=\"_parent\"><img src=\"https://colab.research.google.com/assets/colab-badge.svg\" alt=\"Open In Colab\"/></a>"
      ]
    },
    {
      "cell_type": "markdown",
      "source": [
        "# 📊 Task 2: Unemployment Analysis - Gradio Web App (CipherByte Internship)\n",
        "\n",
        "As part of my internship at **CipherByte Technologies**, I developed an interactive data analysis web application to visualize and analyze unemployment trends in India using Gradio and Python.\n",
        "\n",
        "## 🚀 Key Features\n",
        "- 📁 **Dual File Upload**: Accepts two `.xlsx` files:\n",
        "  - `Unemployment_Rate_upto_11_2020.xlsx`\n",
        "  - `Unemployment in India.xlsx`\n",
        "- 🔍 **Preprocessing**: Cleans, merges, and formats time-series unemployment data.\n",
        "- 📈 **Data Visualizations**:\n",
        "  - 📉 **Time-Series Plot**: Rural vs. Urban unemployment trends.\n",
        "  - 📦 **Boxplot**: State-wise distribution of unemployment.\n",
        "  - 🔥 **Correlation Heatmap**: Relationship among employment indicators.\n",
        "- 📑 **Text Outputs**:\n",
        "  - 🧮 Summary statistics of key columns.\n",
        "  - 🏆 Top 5 states with the highest unemployment rates during COVID (2020 onward).\n",
        "\n",
        "## 🛠️ Tech Stack\n",
        "- `Python`\n",
        "- `Gradio` – for interactive UI\n",
        "- `Pandas` – for data manipulation\n",
        "- `Seaborn` & `Matplotlib` – for data visualization\n",
        "- `Pillow` – for rendering plots\n",
        "- `Openpyxl` – for Excel file support\n",
        "\n",
        "## 📂 How It Works\n",
        "1. Upload the two specified Excel sheets.\n",
        "2. The system merges both, cleans the data, and prepares visualizations.\n",
        "3. Outputs include:\n",
        "   - Summary statistics\n",
        "   - COVID-era top 5 high-unemployment states\n",
        "   - Trendline, boxplot, and correlation heatmap\n",
        "\n",
        "## 📊 Visual Examples\n",
        "- **Unemployment Over Time**: Tracks rate fluctuation by area (urban/rural).\n",
        "- **Boxplot by Region**: Shows variance and outliers across Indian states.\n",
        "- **Heatmap**: Highlights relationships between employment metrics.\n",
        "\n",
        "## 🎯 Purpose\n",
        "To demonstrate practical data analytics skills through interactive visualization, enabling users to explore trends and gain insights from raw unemployment data.\n",
        "\n",
        "## 👨‍💻 Developed By\n",
        "**Talha Shaikh**  \n",
        "🔗 [LinkedIn](https://www.linkedin.com/in/talha-s-145729339/)  \n",
        "📌 Project for **#CipherByteTech** Internship\n",
        "\n",
        "---\n",
        "\n",
        "> “Bringing data to life with interactive, insightful visuals.”\n"
      ],
      "metadata": {
        "id": "U7KcNDPeSdHB"
      }
    },
    {
      "cell_type": "code",
      "execution_count": 1,
      "metadata": {
        "colab": {
          "base_uri": "https://localhost:8080/",
          "height": 760
        },
        "id": "kI9eSMH62VjG",
        "outputId": "b831c074-d22e-422f-bbae-9cd05034d826"
      },
      "outputs": [
        {
          "output_type": "stream",
          "name": "stdout",
          "text": [
            "\u001b[2K   \u001b[90m━━━━━━━━━━━━━━━━━━━━━━━━━━━━━━━━━━━━━━━━\u001b[0m \u001b[32m46.9/46.9 MB\u001b[0m \u001b[31m10.8 MB/s\u001b[0m eta \u001b[36m0:00:00\u001b[0m\n",
            "\u001b[2K   \u001b[90m━━━━━━━━━━━━━━━━━━━━━━━━━━━━━━━━━━━━━━━━\u001b[0m \u001b[32m322.2/322.2 kB\u001b[0m \u001b[31m11.0 MB/s\u001b[0m eta \u001b[36m0:00:00\u001b[0m\n",
            "\u001b[2K   \u001b[90m━━━━━━━━━━━━━━━━━━━━━━━━━━━━━━━━━━━━━━━━\u001b[0m \u001b[32m95.2/95.2 kB\u001b[0m \u001b[31m5.3 MB/s\u001b[0m eta \u001b[36m0:00:00\u001b[0m\n",
            "\u001b[2K   \u001b[90m━━━━━━━━━━━━━━━━━━━━━━━━━━━━━━━━━━━━━━━━\u001b[0m \u001b[32m11.5/11.5 MB\u001b[0m \u001b[31m35.5 MB/s\u001b[0m eta \u001b[36m0:00:00\u001b[0m\n",
            "\u001b[2K   \u001b[90m━━━━━━━━━━━━━━━━━━━━━━━━━━━━━━━━━━━━━━━━\u001b[0m \u001b[32m72.0/72.0 kB\u001b[0m \u001b[31m3.2 MB/s\u001b[0m eta \u001b[36m0:00:00\u001b[0m\n",
            "\u001b[2K   \u001b[90m━━━━━━━━━━━━━━━━━━━━━━━━━━━━━━━━━━━━━━━━\u001b[0m \u001b[32m62.4/62.4 kB\u001b[0m \u001b[31m2.1 MB/s\u001b[0m eta \u001b[36m0:00:00\u001b[0m\n",
            "\u001b[?25hIt looks like you are running Gradio on a hosted a Jupyter notebook. For the Gradio app to work, sharing must be enabled. Automatically setting `share=True` (you can turn this off by setting `share=False` in `launch()` explicitly).\n",
            "\n",
            "Colab notebook detected. To show errors in colab notebook, set debug=True in launch()\n",
            "* Running on public URL: https://f746951f272a45a473.gradio.live\n",
            "\n",
            "This share link expires in 1 week. For free permanent hosting and GPU upgrades, run `gradio deploy` from the terminal in the working directory to deploy to Hugging Face Spaces (https://huggingface.co/spaces)\n"
          ]
        },
        {
          "output_type": "display_data",
          "data": {
            "text/plain": [
              "<IPython.core.display.HTML object>"
            ],
            "text/html": [
              "<div><iframe src=\"https://f746951f272a45a473.gradio.live\" width=\"100%\" height=\"500\" allow=\"autoplay; camera; microphone; clipboard-read; clipboard-write;\" frameborder=\"0\" allowfullscreen></iframe></div>"
            ]
          },
          "metadata": {}
        },
        {
          "output_type": "execute_result",
          "data": {
            "text/plain": []
          },
          "metadata": {},
          "execution_count": 1
        }
      ],
      "source": [
        "# Install dependencies (if needed)\n",
        "!pip install gradio pandas scikit-learn openpyxl matplotlib seaborn pillow --quiet\n",
        "\n",
        "import pandas as pd\n",
        "import matplotlib.pyplot as plt\n",
        "import seaborn as sns\n",
        "import gradio as gr\n",
        "import io\n",
        "from PIL import Image\n",
        "\n",
        "sns.set(style=\"whitegrid\")\n",
        "\n",
        "def buffer_to_image(buf):\n",
        "    return Image.open(buf)\n",
        "\n",
        "def analyze_unemployment(file1, file2):\n",
        "    # Read Excel files\n",
        "    df1 = pd.read_excel(file1, sheet_name='Unemployment_Rate_upto_11_2020')\n",
        "    df2 = pd.read_excel(file2, sheet_name='Unemployment in India')\n",
        "\n",
        "    # Clean and preprocess\n",
        "    df1 = df1.drop(columns=['Region.1', 'Frequency'], errors='ignore')\n",
        "    df2 = df2.dropna(subset=['Region'])\n",
        "\n",
        "    df1['Date'] = pd.to_datetime(df1['Date'], dayfirst=True)\n",
        "    df2['Date'] = pd.to_datetime(df2['Date'], dayfirst=True)\n",
        "\n",
        "    combined_df = pd.concat([df1, df2], ignore_index=True)\n",
        "\n",
        "    # Check required columns\n",
        "    required_cols = ['Estimated Unemployment Rate (%)', 'Date', 'Region', 'Area']\n",
        "    for col in required_cols:\n",
        "        if col not in combined_df.columns:\n",
        "            raise ValueError(f\"Missing required column: {col}\")\n",
        "\n",
        "    # Summary Statistics\n",
        "    summary_stats = combined_df.describe().to_string()\n",
        "\n",
        "    # Time Series Plot\n",
        "    fig1, ax1 = plt.subplots(figsize=(10, 5))\n",
        "    sns.lineplot(x='Date', y='Estimated Unemployment Rate (%)', hue='Area', data=combined_df, ax=ax1, errorbar=None)\n",
        "    ax1.set_title('Unemployment Rate Over Time (Rural vs. Urban)')\n",
        "    plt.xticks(rotation=45)\n",
        "    buf1 = io.BytesIO()\n",
        "    plt.tight_layout()\n",
        "    fig1.savefig(buf1, format=\"png\")\n",
        "    buf1.seek(0)\n",
        "    plt.close(fig1)\n",
        "\n",
        "    # Top 5 States During COVID (2020 onwards)\n",
        "    covid_period = combined_df[combined_df['Date'] >= '2020-03-01']\n",
        "    top_states = covid_period.groupby('Region')['Estimated Unemployment Rate (%)'].mean().nlargest(5).to_string()\n",
        "\n",
        "    # Boxplot by Region\n",
        "    fig2, ax2 = plt.subplots(figsize=(12, 6))\n",
        "    sns.boxplot(x='Region', y='Estimated Unemployment Rate (%)', data=combined_df, palette='viridis', ax=ax2)\n",
        "    plt.xticks(rotation=90)\n",
        "    ax2.set_title('Unemployment Rate Distribution by State')\n",
        "    buf2 = io.BytesIO()\n",
        "    plt.tight_layout()\n",
        "    fig2.savefig(buf2, format=\"png\")\n",
        "    buf2.seek(0)\n",
        "    plt.close(fig2)\n",
        "\n",
        "    # Correlation Heatmap\n",
        "    fig3, ax3 = plt.subplots(figsize=(6, 4))\n",
        "    corr_columns = ['Estimated Unemployment Rate (%)', 'Estimated Employed', 'Estimated Labour Participation Rate (%)']\n",
        "    corr_df = combined_df[[col for col in corr_columns if col in combined_df.columns]]\n",
        "    corr_matrix = corr_df.corr()\n",
        "    sns.heatmap(corr_matrix, annot=True, cmap='coolwarm', ax=ax3)\n",
        "    ax3.set_title('Correlation Matrix')\n",
        "    buf3 = io.BytesIO()\n",
        "    plt.tight_layout()\n",
        "    fig3.savefig(buf3, format=\"png\")\n",
        "    buf3.seek(0)\n",
        "    plt.close(fig3)\n",
        "\n",
        "    # Return all results\n",
        "    return summary_stats, top_states, buffer_to_image(buf1), buffer_to_image(buf2), buffer_to_image(buf3)\n",
        "\n",
        "# Gradio Interface\n",
        "iface = gr.Interface(\n",
        "    fn=analyze_unemployment,\n",
        "    inputs=[\n",
        "        gr.File(label=\"Upload Unemployment_Rate_upto_11_2020.xlsx\"),\n",
        "        gr.File(label=\"Upload Unemployment in India.xlsx\")\n",
        "    ],\n",
        "    outputs=[\n",
        "        gr.Textbox(label=\"Summary Statistics\"),\n",
        "        gr.Textbox(label=\"Top 5 States with Highest Unemployment (2020)\"),\n",
        "        gr.Image(label=\"Unemployment Rate Over Time\"),\n",
        "        gr.Image(label=\"Boxplot by Region\"),\n",
        "        gr.Image(label=\"Correlation Matrix\")\n",
        "    ],\n",
        "    title=\"Unemployment Analysis - CipherByte Internship\",\n",
        "    description=\"Developed by Talha Shaikh | [LinkedIn](https://www.linkedin.com/in/talha-s-145729339/) | #cipherbytetech\"\n",
        "\n",
        ")\n",
        "\n",
        "iface.launch()\n"
      ]
    }
  ]
}