{
  "nbformat": 4,
  "nbformat_minor": 0,
  "metadata": {
    "colab": {
      "provenance": [],
      "authorship_tag": "ABX9TyMr4q2FoA/mBPKjHaf/MIaR",
      "include_colab_link": true
    },
    "kernelspec": {
      "name": "python3",
      "display_name": "Python 3"
    },
    "language_info": {
      "name": "python"
    }
  },
  "cells": [
    {
      "cell_type": "markdown",
      "metadata": {
        "id": "view-in-github",
        "colab_type": "text"
      },
      "source": [
        "<a href=\"https://colab.research.google.com/github/noobhacker02/CBT-CIP/blob/main/Project_1.ipynb\" target=\"_parent\"><img src=\"https://colab.research.google.com/assets/colab-badge.svg\" alt=\"Open In Colab\"/></a>"
      ]
    },
    {
      "cell_type": "markdown",
      "source": [
        "# 🌸 Task 1: Iris Flower Classification - Gradio Web App (CipherByte Internship)\n",
        "\n",
        "This project is part of my internship at **CipherByte Technologies**, where I developed a web-based machine learning application using Gradio to classify iris flower species based on user-uploaded data.\n",
        "\n",
        "## 🚀 Features\n",
        "- 📁 **File Upload**: Accepts an Excel file (`Iris Flower.xlsx`) with sepal and petal measurements.\n",
        "- 🧠 **ML Algorithm**: Utilizes **K-Nearest Neighbors (KNN)** classifier with `k=3` to predict flower species.\n",
        "- 📊 **Real-Time Results**: Returns:\n",
        "  - ✅ Model accuracy in percentage.\n",
        "  - 📋 A comparison DataFrame of actual vs. predicted labels.\n",
        "\n",
        "## 🛠️ Tech Stack\n",
        "- `Python`\n",
        "- `Gradio` – for building interactive web UI\n",
        "- `Pandas` – for data manipulation\n",
        "- `Scikit-learn` – for ML model training & evaluation\n",
        "- `Openpyxl` – for reading Excel files\n",
        "\n",
        "## 📂 How It Works\n",
        "1. Upload the Excel file containing the **Iris dataset**.\n",
        "2. The app reads and processes the data.\n",
        "3. Splits it into training and testing sets.\n",
        "4. Trains a KNN classifier.\n",
        "5. Predicts and evaluates model performance.\n",
        "6. Displays accuracy and actual vs. predicted comparison.\n",
        "\n",
        "## 🎯 Purpose\n",
        "To demonstrate the ability to integrate machine learning with a user-friendly web interface, making ML accessible and interactive for users without coding experience.\n",
        "\n",
        "## 👨‍💻 Developed By\n",
        "**Talha Shaikh**  \n",
        "🔗 [LinkedIn](https://www.linkedin.com/in/talha-s-145729339/)  \n",
        "📌 Project for **#CipherByteTech** Internship\n",
        "\n",
        "---\n",
        "\n",
        "> \"Simple ML meets interactive UI — turning data into decisions in a few clicks.\"\n",
        "\n"
      ],
      "metadata": {
        "id": "BXdUxuRySaDu"
      }
    },
    {
      "cell_type": "code",
      "execution_count": null,
      "metadata": {
        "colab": {
          "base_uri": "https://localhost:8080/",
          "height": 760
        },
        "id": "50DBA1we1bql",
        "outputId": "bc15a4b5-5459-45f1-f06e-7b18d50eb352"
      },
      "outputs": [
        {
          "output_type": "stream",
          "name": "stdout",
          "text": [
            "\u001b[2K   \u001b[90m━━━━━━━━━━━━━━━━━━━━━━━━━━━━━━━━━━━━━━━━\u001b[0m \u001b[32m46.9/46.9 MB\u001b[0m \u001b[31m12.8 MB/s\u001b[0m eta \u001b[36m0:00:00\u001b[0m\n",
            "\u001b[2K   \u001b[90m━━━━━━━━━━━━━━━━━━━━━━━━━━━━━━━━━━━━━━━━\u001b[0m \u001b[32m322.2/322.2 kB\u001b[0m \u001b[31m10.2 MB/s\u001b[0m eta \u001b[36m0:00:00\u001b[0m\n",
            "\u001b[2K   \u001b[90m━━━━━━━━━━━━━━━━━━━━━━━━━━━━━━━━━━━━━━━━\u001b[0m \u001b[32m95.2/95.2 kB\u001b[0m \u001b[31m3.3 MB/s\u001b[0m eta \u001b[36m0:00:00\u001b[0m\n",
            "\u001b[2K   \u001b[90m━━━━━━━━━━━━━━━━━━━━━━━━━━━━━━━━━━━━━━━━\u001b[0m \u001b[32m11.5/11.5 MB\u001b[0m \u001b[31m52.8 MB/s\u001b[0m eta \u001b[36m0:00:00\u001b[0m\n",
            "\u001b[2K   \u001b[90m━━━━━━━━━━━━━━━━━━━━━━━━━━━━━━━━━━━━━━━━\u001b[0m \u001b[32m72.0/72.0 kB\u001b[0m \u001b[31m2.8 MB/s\u001b[0m eta \u001b[36m0:00:00\u001b[0m\n",
            "\u001b[2K   \u001b[90m━━━━━━━━━━━━━━━━━━━━━━━━━━━━━━━━━━━━━━━━\u001b[0m \u001b[32m62.4/62.4 kB\u001b[0m \u001b[31m2.5 MB/s\u001b[0m eta \u001b[36m0:00:00\u001b[0m\n",
            "\u001b[?25hIt looks like you are running Gradio on a hosted a Jupyter notebook. For the Gradio app to work, sharing must be enabled. Automatically setting `share=True` (you can turn this off by setting `share=False` in `launch()` explicitly).\n",
            "\n",
            "Colab notebook detected. To show errors in colab notebook, set debug=True in launch()\n",
            "* Running on public URL: https://bddffd3a2358a17512.gradio.live\n",
            "\n",
            "This share link expires in 1 week. For free permanent hosting and GPU upgrades, run `gradio deploy` from the terminal in the working directory to deploy to Hugging Face Spaces (https://huggingface.co/spaces)\n"
          ]
        },
        {
          "output_type": "display_data",
          "data": {
            "text/plain": [
              "<IPython.core.display.HTML object>"
            ],
            "text/html": [
              "<div><iframe src=\"https://bddffd3a2358a17512.gradio.live\" width=\"100%\" height=\"500\" allow=\"autoplay; camera; microphone; clipboard-read; clipboard-write;\" frameborder=\"0\" allowfullscreen></iframe></div>"
            ]
          },
          "metadata": {}
        },
        {
          "output_type": "execute_result",
          "data": {
            "text/plain": []
          },
          "metadata": {},
          "execution_count": 1
        }
      ],
      "source": [
        "# Task 1: Iris Flower Classification - Gradio App (for CipherByte Internship)\n",
        "!pip install gradio pandas scikit-learn openpyxl --quiet\n",
        "\n",
        "import gradio as gr\n",
        "import pandas as pd\n",
        "from sklearn.model_selection import train_test_split\n",
        "from sklearn.neighbors import KNeighborsClassifier\n",
        "from sklearn.metrics import accuracy_score, classification_report\n",
        "\n",
        "def classify_iris(file):\n",
        "    try:\n",
        "        # Load Excel file\n",
        "        df = pd.read_excel(file.name, sheet_name='Iris')\n",
        "\n",
        "        # Drop the ID column\n",
        "        df = df.drop(columns=['Id'])\n",
        "\n",
        "        # Features & labels\n",
        "        X = df.drop(columns=['Species'])\n",
        "        y = df['Species']\n",
        "\n",
        "        # Train-test split\n",
        "        X_train, X_test, y_train, y_test = train_test_split(X, y, test_size=0.2, random_state=42)\n",
        "\n",
        "        # Train model\n",
        "        model = KNeighborsClassifier(n_neighbors=3)\n",
        "        model.fit(X_train, y_train)\n",
        "\n",
        "        # Predict\n",
        "        y_pred = model.predict(X_test)\n",
        "        accuracy = accuracy_score(y_test, y_pred)\n",
        "\n",
        "        # Output DataFrame for comparison\n",
        "        output_df = pd.DataFrame({\n",
        "            \"Actual\": y_test.values,\n",
        "            \"Predicted\": y_pred\n",
        "        })\n",
        "\n",
        "        return f\"✅ Model Accuracy: {accuracy * 100:.2f}%\", output_df\n",
        "    except Exception as e:\n",
        "        return f\"❌ Error: {str(e)}\", pd.DataFrame()\n",
        "\n",
        "with gr.Blocks() as demo:\n",
        "    gr.Markdown(\"## 🌸 Iris Flower Classification - CipherByte Internship Task 1\")\n",
        "    gr.Markdown(\"Upload your Excel file (`Iris Flower.xlsx`) and click 'Run Model' to classify the species.\")\n",
        "\n",
        "    with gr.Row():\n",
        "        file_input = gr.File(label=\"Upload Excel File (.xlsx)\")\n",
        "        run_button = gr.Button(\"Run Model\")\n",
        "\n",
        "    accuracy_text = gr.Textbox(label=\"Model Accuracy\")\n",
        "    output_table = gr.Dataframe(label=\"Predicted vs Actual\")\n",
        "\n",
        "    run_button.click(fn=classify_iris, inputs=file_input, outputs=[accuracy_text, output_table])\n",
        "\n",
        "    gr.Markdown(\"---\")\n",
        "    gr.Markdown(\"**👤 Developed by [Talha Shaikh](https://www.linkedin.com/in/talha-s-145729339/)**  \\n\"\n",
        "                \"📌 #cipherbytetech | Internship Project at CipherByte Technologies\")\n",
        "\n",
        "demo.launch()\n"
      ]
    }
  ]
}