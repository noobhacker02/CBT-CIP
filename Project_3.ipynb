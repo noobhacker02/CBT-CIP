{
  "nbformat": 4,
  "nbformat_minor": 0,
  "metadata": {
    "colab": {
      "provenance": [],
      "authorship_tag": "ABX9TyMDmWxJzD7Qjb9W1zm4ly1v",
      "include_colab_link": true
    },
    "kernelspec": {
      "name": "python3",
      "display_name": "Python 3"
    },
    "language_info": {
      "name": "python"
    }
  },
  "cells": [
    {
      "cell_type": "markdown",
      "metadata": {
        "id": "view-in-github",
        "colab_type": "text"
      },
      "source": [
        "<a href=\"https://colab.research.google.com/github/noobhacker02/CBT-CIP/blob/main/Project_3.ipynb\" target=\"_parent\"><img src=\"https://colab.research.google.com/assets/colab-badge.svg\" alt=\"Open In Colab\"/></a>"
      ]
    },
    {
      "cell_type": "markdown",
      "source": [
        "\n",
        "# ⏳ Task 3: Time Series Forecasting App - CipherByte Internship\n",
        "\n",
        "As part of my internship at **CipherByte Technologies**, I built a time series forecasting web application using **SARIMAX** models. The app allows users to upload two datasets and forecasts the next 12 months of:\n",
        "- 🚗 **Miles Traveled**\n",
        "- 🍾 **Alcohol Sales**\n",
        "\n",
        "## 🔧 Features\n",
        "- 📂 Upload CSV files:\n",
        "  - `Miles_Traveled.csv`\n",
        "  - `Alcohol_Sales.csv`\n",
        "- 🧠 Uses SARIMAX (Seasonal ARIMA with Exogenous variables) for forecasting.\n",
        "- 📉 Forecasts next 12 months of trends for both metrics.\n",
        "- 📊 Displays actual vs. predicted plots.\n",
        "- 🧮 Provides model evaluation using:\n",
        "  - **RMSE** (Root Mean Squared Error)\n",
        "  - **MAE** (Mean Absolute Error)\n",
        "\n",
        "## 💡 How It Works\n",
        "1. Reads uploaded time-series CSVs with `DATE` column.\n",
        "2. Preprocesses data to set monthly frequency (`MS`).\n",
        "3. Splits into train and test sets (last 12 months as test).\n",
        "4. Trains separate SARIMAX models on each metric.\n",
        "5. Plots and compares predicted vs. actual values.\n",
        "6. Outputs performance metrics and a combined forecast plot.\n",
        "\n",
        "## 📦 Tech Stack\n",
        "- `Python`\n",
        "- `Pandas` – for data manipulation\n",
        "- `Matplotlib` & `Seaborn` – for plotting\n",
        "- `scikit-learn` – for error metrics\n",
        "- `statsmodels` – SARIMAX model\n",
        "- `Gradio` – for building the interactive web app\n",
        "\n",
        "## 📷 Sample Output\n",
        "- **Forecast Plot**:\n",
        "  - 📘 Blue Line: Actual Miles Traveled\n",
        "  - 🟡 Orange Line: Actual Alcohol Sales\n",
        "  - Dashed Lines: Predicted values\n",
        "- **Evaluation**:\n",
        "  ```\n",
        "  Miles Traveled\n",
        "  RMSE: 123.45 | MAE: 110.23\n",
        "\n",
        "  Alcohol Sales\n",
        "  RMSE: 98.76 | MAE: 87.65\n",
        "  ```\n",
        "\n",
        "## 🧪 Use Case\n",
        "Useful for trend forecasting, retail planning, logistics, and alcohol distribution insights.\n",
        "\n",
        "## 👨‍💻 Developed By\n",
        "**Talha Shaikh**  \n",
        "🔗 [LinkedIn](https://www.linkedin.com/in/talha-s-145729339/)  \n",
        "📌 Project for **#CipherByteTech** Internship\n",
        "\n",
        "---\n",
        "\n",
        "> “Forecasting the future—one line of code at a time.”\n",
        "```\n",
        "\n"
      ],
      "metadata": {
        "id": "RYJrwCfNSeYq"
      }
    },
    {
      "cell_type": "code",
      "execution_count": 1,
      "metadata": {
        "colab": {
          "base_uri": "https://localhost:8080/",
          "height": 760
        },
        "id": "z1Gd0Dal_45j",
        "outputId": "f4b3c0e3-6684-4962-d51b-9cad4e485ce2"
      },
      "outputs": [
        {
          "output_type": "stream",
          "name": "stdout",
          "text": [
            "\u001b[2K   \u001b[90m━━━━━━━━━━━━━━━━━━━━━━━━━━━━━━━━━━━━━━━━\u001b[0m \u001b[32m46.9/46.9 MB\u001b[0m \u001b[31m19.0 MB/s\u001b[0m eta \u001b[36m0:00:00\u001b[0m\n",
            "\u001b[2K   \u001b[90m━━━━━━━━━━━━━━━━━━━━━━━━━━━━━━━━━━━━━━━━\u001b[0m \u001b[32m322.2/322.2 kB\u001b[0m \u001b[31m21.3 MB/s\u001b[0m eta \u001b[36m0:00:00\u001b[0m\n",
            "\u001b[2K   \u001b[90m━━━━━━━━━━━━━━━━━━━━━━━━━━━━━━━━━━━━━━━━\u001b[0m \u001b[32m95.2/95.2 kB\u001b[0m \u001b[31m6.1 MB/s\u001b[0m eta \u001b[36m0:00:00\u001b[0m\n",
            "\u001b[2K   \u001b[90m━━━━━━━━━━━━━━━━━━━━━━━━━━━━━━━━━━━━━━━━\u001b[0m \u001b[32m11.5/11.5 MB\u001b[0m \u001b[31m101.4 MB/s\u001b[0m eta \u001b[36m0:00:00\u001b[0m\n",
            "\u001b[2K   \u001b[90m━━━━━━━━━━━━━━━━━━━━━━━━━━━━━━━━━━━━━━━━\u001b[0m \u001b[32m72.0/72.0 kB\u001b[0m \u001b[31m4.3 MB/s\u001b[0m eta \u001b[36m0:00:00\u001b[0m\n",
            "\u001b[2K   \u001b[90m━━━━━━━━━━━━━━━━━━━━━━━━━━━━━━━━━━━━━━━━\u001b[0m \u001b[32m62.4/62.4 kB\u001b[0m \u001b[31m4.1 MB/s\u001b[0m eta \u001b[36m0:00:00\u001b[0m\n",
            "\u001b[?25hIt looks like you are running Gradio on a hosted a Jupyter notebook. For the Gradio app to work, sharing must be enabled. Automatically setting `share=True` (you can turn this off by setting `share=False` in `launch()` explicitly).\n",
            "\n",
            "Colab notebook detected. To show errors in colab notebook, set debug=True in launch()\n",
            "* Running on public URL: https://f79925307ac5a9cd24.gradio.live\n",
            "\n",
            "This share link expires in 1 week. For free permanent hosting and GPU upgrades, run `gradio deploy` from the terminal in the working directory to deploy to Hugging Face Spaces (https://huggingface.co/spaces)\n"
          ]
        },
        {
          "output_type": "display_data",
          "data": {
            "text/plain": [
              "<IPython.core.display.HTML object>"
            ],
            "text/html": [
              "<div><iframe src=\"https://f79925307ac5a9cd24.gradio.live\" width=\"100%\" height=\"500\" allow=\"autoplay; camera; microphone; clipboard-read; clipboard-write;\" frameborder=\"0\" allowfullscreen></iframe></div>"
            ]
          },
          "metadata": {}
        },
        {
          "output_type": "execute_result",
          "data": {
            "text/plain": []
          },
          "metadata": {},
          "execution_count": 1
        }
      ],
      "source": [
        "!pip install gradio pandas matplotlib seaborn scikit-learn statsmodels --quiet\n",
        "\n",
        "import pandas as pd\n",
        "import matplotlib.pyplot as plt\n",
        "import seaborn as sns\n",
        "from sklearn.metrics import mean_squared_error, mean_absolute_error\n",
        "from statsmodels.tsa.statespace.sarimax import SARIMAX\n",
        "from math import sqrt\n",
        "import gradio as gr\n",
        "\n",
        "# Set plot aesthetics\n",
        "sns.set_style('whitegrid')\n",
        "plt.rcParams['figure.figsize'] = (12, 6)\n",
        "\n",
        "# Evaluation function\n",
        "def evaluate_model(y_true, y_pred):\n",
        "    rmse = sqrt(mean_squared_error(y_true, y_pred))\n",
        "    mae = mean_absolute_error(y_true, y_pred)\n",
        "    return rmse, mae\n",
        "\n",
        "# Forecasting function (manual SARIMAX config)\n",
        "def forecast_time_series(miles_file, alcohol_file):\n",
        "    miles_df = pd.read_csv(miles_file.name, parse_dates=['DATE'])\n",
        "    alcohol_df = pd.read_csv(alcohol_file.name, parse_dates=['DATE'])\n",
        "\n",
        "    miles_df.columns = ['Date', 'Miles']\n",
        "    alcohol_df.columns = ['Date', 'Sales']\n",
        "\n",
        "    miles_df.set_index('Date', inplace=True)\n",
        "    alcohol_df.set_index('Date', inplace=True)\n",
        "\n",
        "    miles_df = miles_df.asfreq('MS')\n",
        "    alcohol_df = alcohol_df.asfreq('MS')\n",
        "\n",
        "    def split_data(df, test_size=12):\n",
        "        return df.iloc[:-test_size], df.iloc[-test_size:]\n",
        "\n",
        "    miles_train, miles_test = split_data(miles_df)\n",
        "    alcohol_train, alcohol_test = split_data(alcohol_df)\n",
        "\n",
        "    # Basic SARIMAX model — these values can be tuned\n",
        "    miles_model = SARIMAX(miles_train, order=(1, 1, 1), seasonal_order=(1, 1, 1, 12))\n",
        "    miles_results = miles_model.fit(disp=False)\n",
        "    miles_forecast = miles_results.get_forecast(steps=12).predicted_mean\n",
        "\n",
        "    alcohol_model = SARIMAX(alcohol_train, order=(1, 1, 1), seasonal_order=(1, 1, 1, 12))\n",
        "    alcohol_results = alcohol_model.fit(disp=False)\n",
        "    alcohol_forecast = alcohol_results.get_forecast(steps=12).predicted_mean\n",
        "\n",
        "    miles_rmse, miles_mae = evaluate_model(miles_test['Miles'], miles_forecast)\n",
        "    alcohol_rmse, alcohol_mae = evaluate_model(alcohol_test['Sales'], alcohol_forecast)\n",
        "\n",
        "    # Plotting\n",
        "    fig, ax = plt.subplots(2, 1, figsize=(14, 10))\n",
        "\n",
        "    ax[0].plot(miles_df, label=\"Actual\")\n",
        "    ax[0].plot(miles_forecast.index, miles_forecast, label=\"Predicted\", linestyle='--')\n",
        "    ax[0].set_title(\"Miles Traveled - Forecast\")\n",
        "    ax[0].legend()\n",
        "\n",
        "    ax[1].plot(alcohol_df, label=\"Actual\", color='orange')\n",
        "    ax[1].plot(alcohol_forecast.index, alcohol_forecast, label=\"Predicted\", linestyle='--', color='red')\n",
        "    ax[1].set_title(\"Alcohol Sales - Forecast\")\n",
        "    ax[1].legend()\n",
        "\n",
        "    plt.tight_layout()\n",
        "    plot_path = \"forecast_plot.png\"\n",
        "    plt.savefig(plot_path)\n",
        "    plt.close()\n",
        "\n",
        "    result_text = (\n",
        "        f\"**Miles Traveled**\\nRMSE: {miles_rmse:.2f} | MAE: {miles_mae:.2f}\\n\\n\"\n",
        "        f\"**Alcohol Sales**\\nRMSE: {alcohol_rmse:.2f} | MAE: {alcohol_mae:.2f}\"\n",
        "    )\n",
        "\n",
        "    return result_text, plot_path\n",
        "\n",
        "# Gradio Interface\n",
        "interface = gr.Interface(\n",
        "    fn=forecast_time_series,\n",
        "    inputs=[\n",
        "        gr.File(label=\"Upload Miles_Traveled.csv\"),\n",
        "        gr.File(label=\"Upload Alcohol_Sales.csv\")\n",
        "    ],\n",
        "    outputs=[\n",
        "        gr.Markdown(label=\"Evaluation Results\"),\n",
        "        gr.Image(type=\"filepath\", label=\"Forecast Plot\")\n",
        "    ],\n",
        "    title=\"Time Series Forecasting App - CipherByte Internship\",\n",
        "    description=\"Upload time-series CSVs to forecast Miles Traveled and Alcohol Sales for the next 12 months using SARIMAX. Developed by Talha Shaikh | [LinkedIn](https://www.linkedin.com/in/talha-s-145729339/) | #cipherbytetech\"\n",
        "\n",
        ")\n",
        "\n",
        "interface.launch()\n"
      ]
    }
  ]
}